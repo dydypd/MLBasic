{
 "cells": [
  {
   "cell_type": "code",
   "execution_count": 12,
   "metadata": {
    "collapsed": true
   },
   "outputs": [],
   "source": [
    "\"\"\"\n",
    "a, Mã giả của thuật toán\n",
    "procedure selectionSort(a: list of n elements)\n",
    "    for i from 0 to n-1 do\n",
    "        // tìm phần tử nhỏ nhất trong phần tử chưa được sắp xếp\n",
    "        minIndex = i\n",
    "        for j from i+1 to n-1 do\n",
    "            if a[j] < a[minIndex] then\n",
    "                minIndex = j\n",
    "\n",
    "        // đổi chỗ phần tử nhỏ nhất với phần tử đang được sắp xếp\n",
    "        if minIndex != i then\n",
    "            swap(a[minIndex], a[i])\n",
    "    end for\n",
    "end procedure\n",
    "b, Sở dĩ chỉ cần xét qua n-1 phần tử vì sau n-1 phần tử, phần tử cuối cùng luôn luôn là phần tử lớn nhất(Nhỏ nhất)\n",
    "d, code dưới đây\n",
    "\"\"\"\n",
    "import random\n",
    "import timeit\n",
    "import csv\n",
    "import matplotlib.pyplot as plt\n",
    "import pandas as pd\n",
    "import numpy as np\n",
    "\n",
    "# Your statements here\n",
    "time = []\n",
    "with open('data.csv', 'w', newline='') as file:\n",
    "    writer = csv.writer(file)\n",
    "    writer.writerow(['n', 'time'])\n",
    "    for n in range(100):\n",
    "        start = timeit.default_timer()\n",
    "        k = random.randint(1, 10000)\n",
    "        A = random.sample(range(10000), k)\n",
    "        for i in range(len(A)):\n",
    "\n",
    "            # Tìm phần tử nhỏ nhất\n",
    "            min_idx = i\n",
    "            for j in range(i + 1, len(A)):\n",
    "                if A[min_idx] > A[j]:\n",
    "                    min_idx = j\n",
    "\n",
    "            # Tráo phần tử nhỏ nhất với phần tử tại chỉ mục i\n",
    "            A[i], A[min_idx] = A[min_idx], A[i]\n",
    "        stop = timeit.default_timer()\n",
    "        t = stop - start\n",
    "        # chạy code\n",
    "        row = [len(A), t]\n",
    "        time.append([len(A), t])\n",
    "        writer.writerow(row)"
   ]
  },
  {
   "cell_type": "code",
   "execution_count": 13,
   "outputs": [
    {
     "data": {
      "text/plain": "<Figure size 640x480 with 1 Axes>",
      "image/png": "[encoded data removed]"
     },
     "metadata": {},
     "output_type": "display_data"
    }
   ],
   "source": [
    "data = pd.read_csv(\"data.csv\", header = 0)\n",
    "# Show the description of data\n",
    "data.describe()\n",
    "#d, vẽ đường\n",
    "y = np.array(data['time']).reshape(-1, 1)\n",
    "x = np.array(data['n']).reshape(-1, 1)\n",
    "plt.scatter(x, y)\n",
    "plt.xlabel('n', fontsize=20)\n",
    "plt.ylabel('Time', fontsize=20)\n",
    "plt.show()"
   ],
   "metadata": {
    "collapsed": false
   }
  },
  {
   "cell_type": "code",
   "execution_count": null,
   "outputs": [],
   "source": [],
   "metadata": {
    "collapsed": false
   }
  }
 ],
 "metadata": {
  "kernelspec": {
   "display_name": "Python 3",
   "language": "python",
   "name": "python3"
  },
  "language_info": {
   "codemirror_mode": {
    "name": "ipython",
    "version": 2
   },
   "file_extension": ".py",
   "mimetype": "text/x-python",
   "name": "python",
   "nbconvert_exporter": "python",
   "pygments_lexer": "ipython2",
   "version": "2.7.6"
  }
 },
 "nbformat": 4,
 "nbformat_minor": 0
}
