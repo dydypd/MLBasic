{
 "cells": [
  {
   "cell_type": "code",
   "execution_count": 1,
   "metadata": {
    "collapsed": true
   },
   "outputs": [
    {
     "data": {
      "text/plain": "<Figure size 640x480 with 1 Axes>",
      "image/png": "[encoded data removed]"
     },
     "metadata": {},
     "output_type": "display_data"
    }
   ],
   "source": [
    "import numpy as np\n",
    "import pandas as pd\n",
    "from sklearn import datasets, linear_model\n",
    "from sklearn.model_selection import train_test_split\n",
    "import matplotlib.pyplot as plt\n",
    "\n",
    "# Change to data path on your computer\n",
    "data = pd.read_csv(\"ex2Data/SAT_GPA.csv\")\n",
    "# Show the description of data\n",
    "data.describe()\n",
    "# Set to training data (x, y)\n",
    "y = np.array(data['GPA']).reshape(-1, 1)\n",
    "x = np.array(data['SAT']).reshape(-1, 1)\n",
    "\n",
    "regr = linear_model.LinearRegression()\n",
    "X_train, X_test, y_train, y_test = train_test_split(x, y, train_size=60, shuffle=False)\n",
    "model = regr.fit(X_train, y_train)\n",
    "y_pred = regr.predict(X_test)\n",
    "yhat = regr.intercept_ + x * regr.coef_\n",
    "# Remind that we need to put component x_0 = 1 to x\n",
    "plt.scatter(x, y)\n",
    "plt.scatter(X_test, y_test, color='b')\n",
    "plt.plot(X_test, y_pred, color='k')\n",
    "fig = plt.plot(x, yhat, lw=4, c='orange', label='regression line')\n",
    "plt.xlabel('SAT', fontsize=20)\n",
    "plt.ylabel('GPA', fontsize=20)\n",
    "plt.show()"
   ]
  },
  {
   "cell_type": "code",
   "execution_count": 2,
   "outputs": [
    {
     "name": "stdout",
     "output_type": "stream",
     "text": [
      "     ID  TUOI  BMI   HA  GLUCOSE  CHOLESTEROL  BEDAYNTM\n",
      "0     1    56   21  160     14.0         6.00      1.95\n",
      "1     2    76   18  150     12.0         4.97      1.33\n",
      "2     3    63   16  160      4.4         6.39      0.83\n",
      "3     4    78   20  100      4.0         7.00      2.00\n",
      "4     5    87   20  110      4.6         4.10      1.30\n",
      "..  ...   ...  ...  ...      ...          ...       ...\n",
      "95   96    55   24  160      5.0         7.20      0.90\n",
      "96   97    76   15  140      3.1         5.24      1.16\n",
      "97   98    70   25  180      4.0         4.40      1.00\n",
      "98   99    85   21  160      5.2         5.20      0.97\n",
      "99  100    87   22  130      9.0         5.20      2.30\n",
      "\n",
      "[100 rows x 7 columns]\n"
     ]
    }
   ],
   "source": [
    "import numpy as np\n",
    "import pandas as pd\n",
    "from sklearn import datasets, linear_model\n",
    "from sklearn.model_selection import train_test_split\n",
    "from sklearn.metrics import mean_squared_error, mean_absolute_error\n",
    "\n",
    "#lấy dữ liệu từ file (lưu ý: Header = 0 nghĩa là lấy dòng đầu tiên làm tên cột)\n",
    "data = pd.read_csv('ex2Data/vidu4_lin_reg.txt', sep=\" \", header=0)\n",
    "print(data)\n",
    "regr = linear_model.LinearRegression()\n",
    "#x là dữ liệu 5 cột bỏ cột đầu, y là dữ liệu cột cuối\n",
    "y_data = data.iloc[:, -1]\n",
    "x_data = data.iloc[:, 1:6]"
   ],
   "metadata": {
    "collapsed": false,
    "pycharm": {
     "name": "#%%\n"
    }
   }
  },
  {
   "cell_type": "code",
   "execution_count": 3,
   "outputs": [
    {
     "name": "stdout",
     "output_type": "stream",
     "text": [
      "    TUOI  BMI   HA  GLUCOSE  CHOLESTEROL\n",
      "0     56   21  160     14.0         6.00\n",
      "1     76   18  150     12.0         4.97\n",
      "2     63   16  160      4.4         6.39\n",
      "3     78   20  100      4.0         7.00\n",
      "4     87   20  110      4.6         4.10\n",
      "..   ...  ...  ...      ...          ...\n",
      "95    55   24  160      5.0         7.20\n",
      "96    76   15  140      3.1         5.24\n",
      "97    70   25  180      4.0         4.40\n",
      "98    85   21  160      5.2         5.20\n",
      "99    87   22  130      9.0         5.20\n",
      "\n",
      "[100 rows x 5 columns]\n",
      "0     1.95\n",
      "1     1.33\n",
      "2     0.83\n",
      "3     2.00\n",
      "4     1.30\n",
      "      ... \n",
      "95    0.90\n",
      "96    1.16\n",
      "97    1.00\n",
      "98    0.97\n",
      "99    2.30\n",
      "Name: BEDAYNTM, Length: 100, dtype: float64\n"
     ]
    }
   ],
   "source": [
    "#in thử xem đã lấy dữ liệu đúng chưa\n",
    "print(x_data)\n",
    "print(y_data)"
   ],
   "metadata": {
    "collapsed": false,
    "pycharm": {
     "name": "#%%\n"
    }
   }
  },
  {
   "cell_type": "code",
   "execution_count": 4,
   "outputs": [
    {
     "name": "stdout",
     "output_type": "stream",
     "text": [
      "                TUOI: 0.009946940947109854\n",
      "                 BMI: -0.00020654770133401133\n",
      "                  HA: 0.0021813669452475076\n",
      "             GLUCOSE: 0.007670101694230014\n",
      "         CHOLESTEROL: 0.03847024823970344\n"
     ]
    }
   ],
   "source": [
    "#Train với toàn bộ 100 dữ liệu\n",
    "regr.fit(x_data, y_data)\n",
    "res = list(zip(x_data.columns.tolist(), regr.coef_))\n",
    "#in ra các chỉ số\n",
    "for o in res:\n",
    "    print(\"{: >20}: {: >10}\".format(*o))"
   ],
   "metadata": {
    "collapsed": false,
    "pycharm": {
     "name": "#%%\n"
    }
   }
  },
  {
   "cell_type": "code",
   "execution_count": 5,
   "outputs": [
    {
     "name": "stdout",
     "output_type": "stream",
     "text": [
      "                TUOI: 0.008989196889296783\n",
      "                 BMI: -0.00047742422185274966\n",
      "                  HA: 0.0026021798675557725\n",
      "             GLUCOSE: 0.008086342231978154\n",
      "         CHOLESTEROL: 0.007085352341923775\n",
      "Kỳ vọng của sai số là:  0.30532598337436595\n",
      "Phương sai của sai số là:  0.22740099167615907\n"
     ]
    }
   ],
   "source": [
    "#tách dữ liệu vs tỉ lệ 8:2 trong đó 80 bộ dữ liệu đầu dùng để training\n",
    "x_train, x_test, y_train, y_test = train_test_split(x_data, y_data, train_size=0.8, shuffle=False)\n",
    "regr.fit(x_train, y_train)\n",
    "#in lại các giá trị sau khi train\n",
    "res = list(zip(x_data.columns.tolist(), regr.coef_))\n",
    "#in ra các chỉ số\n",
    "for o in res:\n",
    "    print(\"{: >20}: {: >10}\".format(*o))\n",
    "y_pred = regr.predict(x_test)\n",
    "print(\"Kỳ vọng của sai số là: \" , mean_absolute_error(y_pred, y_test))\n",
    "print(\"Phương sai của sai số là: \" ,mean_squared_error(y_pred, y_test))"
   ],
   "metadata": {
    "collapsed": false,
    "pycharm": {
     "name": "#%%\n"
    }
   }
  },
  {
   "cell_type": "code",
   "execution_count": 6,
   "outputs": [
    {
     "data": {
      "text/plain": "      No  X1 transaction date  X2 house age  \\\n0      1             2012.917          32.0   \n1      2             2012.917          19.5   \n2      3             2013.583          13.3   \n3      4             2013.500          13.3   \n4      5             2012.833           5.0   \n..   ...                  ...           ...   \n409  410             2013.000          13.7   \n410  411             2012.667           5.6   \n411  412             2013.250          18.8   \n412  413             2013.000           8.1   \n413  414             2013.500           6.5   \n\n     X3 distance to the nearest MRT station  X4 number of convenience stores  \\\n0                                  84.87882                               10   \n1                                 306.59470                                9   \n2                                 561.98450                                5   \n3                                 561.98450                                5   \n4                                 390.56840                                5   \n..                                      ...                              ...   \n409                              4082.01500                                0   \n410                                90.45606                                9   \n411                               390.96960                                7   \n412                               104.81010                                5   \n413                                90.45606                                9   \n\n     X5 latitude  X6 longitude  Y house price of unit area  \n0       24.98298     121.54024                        37.9  \n1       24.98034     121.53951                        42.2  \n2       24.98746     121.54391                        47.3  \n3       24.98746     121.54391                        54.8  \n4       24.97937     121.54245                        43.1  \n..           ...           ...                         ...  \n409     24.94155     121.50381                        15.4  \n410     24.97433     121.54310                        50.0  \n411     24.97923     121.53986                        40.6  \n412     24.96674     121.54067                        52.5  \n413     24.97433     121.54310                        63.9  \n\n[414 rows x 8 columns]",
      "text/html": "<div>\n<style scoped>\n    .dataframe tbody tr th:only-of-type {\n        vertical-align: middle;\n    }\n\n    .dataframe tbody tr th {\n        vertical-align: top;\n    }\n\n    .dataframe thead th {\n        text-align: right;\n    }\n</style>\n<table border=\"1\" class=\"dataframe\">\n  <thead>\n    <tr style=\"text-align: right;\">\n      <th></th>\n      <th>No</th>\n      <th>X1 transaction date</th>\n      <th>X2 house age</th>\n      <th>X3 distance to the nearest MRT station</th>\n      <th>X4 number of convenience stores</th>\n      <th>X5 latitude</th>\n      <th>X6 longitude</th>\n      <th>Y house price of unit area</th>\n    </tr>\n  </thead>\n  <tbody>\n    <tr>\n      <th>0</th>\n      <td>1</td>\n      <td>2012.917</td>\n      <td>32.0</td>\n      <td>84.87882</td>\n      <td>10</td>\n      <td>24.98298</td>\n      <td>121.54024</td>\n      <td>37.9</td>\n    </tr>\n    <tr>\n      <th>1</th>\n      <td>2</td>\n      <td>2012.917</td>\n      <td>19.5</td>\n      <td>306.59470</td>\n      <td>9</td>\n      <td>24.98034</td>\n      <td>121.53951</td>\n      <td>42.2</td>\n    </tr>\n    <tr>\n      <th>2</th>\n      <td>3</td>\n      <td>2013.583</td>\n      <td>13.3</td>\n      <td>561.98450</td>\n      <td>5</td>\n      <td>24.98746</td>\n      <td>121.54391</td>\n      <td>47.3</td>\n    </tr>\n    <tr>\n      <th>3</th>\n      <td>4</td>\n      <td>2013.500</td>\n      <td>13.3</td>\n      <td>561.98450</td>\n      <td>5</td>\n      <td>24.98746</td>\n      <td>121.54391</td>\n      <td>54.8</td>\n    </tr>\n    <tr>\n      <th>4</th>\n      <td>5</td>\n      <td>2012.833</td>\n      <td>5.0</td>\n      <td>390.56840</td>\n      <td>5</td>\n      <td>24.97937</td>\n      <td>121.54245</td>\n      <td>43.1</td>\n    </tr>\n    <tr>\n      <th>...</th>\n      <td>...</td>\n      <td>...</td>\n      <td>...</td>\n      <td>...</td>\n      <td>...</td>\n      <td>...</td>\n      <td>...</td>\n      <td>...</td>\n    </tr>\n    <tr>\n      <th>409</th>\n      <td>410</td>\n      <td>2013.000</td>\n      <td>13.7</td>\n      <td>4082.01500</td>\n      <td>0</td>\n      <td>24.94155</td>\n      <td>121.50381</td>\n      <td>15.4</td>\n    </tr>\n    <tr>\n      <th>410</th>\n      <td>411</td>\n      <td>2012.667</td>\n      <td>5.6</td>\n      <td>90.45606</td>\n      <td>9</td>\n      <td>24.97433</td>\n      <td>121.54310</td>\n      <td>50.0</td>\n    </tr>\n    <tr>\n      <th>411</th>\n      <td>412</td>\n      <td>2013.250</td>\n      <td>18.8</td>\n      <td>390.96960</td>\n      <td>7</td>\n      <td>24.97923</td>\n      <td>121.53986</td>\n      <td>40.6</td>\n    </tr>\n    <tr>\n      <th>412</th>\n      <td>413</td>\n      <td>2013.000</td>\n      <td>8.1</td>\n      <td>104.81010</td>\n      <td>5</td>\n      <td>24.96674</td>\n      <td>121.54067</td>\n      <td>52.5</td>\n    </tr>\n    <tr>\n      <th>413</th>\n      <td>414</td>\n      <td>2013.500</td>\n      <td>6.5</td>\n      <td>90.45606</td>\n      <td>9</td>\n      <td>24.97433</td>\n      <td>121.54310</td>\n      <td>63.9</td>\n    </tr>\n  </tbody>\n</table>\n<p>414 rows × 8 columns</p>\n</div>"
     },
     "execution_count": 6,
     "metadata": {},
     "output_type": "execute_result"
    }
   ],
   "source": [
    "import numpy as np\n",
    "import pandas as pd\n",
    "from sklearn import datasets, linear_model\n",
    "from sklearn.model_selection import train_test_split\n",
    "from sklearn.metrics import  mean_squared_error\n",
    "\n",
    "#import dữ liệu\n",
    "data = pd.read_csv(\"ex2Data/real_estate.csv\")\n",
    "data"
   ],
   "metadata": {
    "collapsed": false,
    "pycharm": {
     "name": "#%%\n"
    }
   }
  },
  {
   "cell_type": "code",
   "execution_count": 7,
   "outputs": [
    {
     "name": "stdout",
     "output_type": "stream",
     "text": [
      "Tổng bình phương sai số của dự đoán: 4083.6448394273953\n"
     ]
    }
   ],
   "source": [
    "#tách dữ liệu\n",
    "y_data = data.iloc[:, -1]\n",
    "x_data = data.iloc[:, 1:7]\n",
    "#lấy phần nguyên của năm giao dịch\n",
    "x_data['X1 transaction date'] = data['X1 transaction date'].apply(int)\n",
    "lregr = linear_model.LinearRegression()\n",
    "#chia dữ liệu thành bộ training và validation\n",
    "x_train, x_test, y_train, y_test = train_test_split(x_data, y_data, train_size=350, shuffle=False)\n",
    "lregr.fit(x_train, y_train)\n",
    "#dự đoán\n",
    "y_pred = lregr.predict(x_test)\n",
    "sse = ((y_test - y_pred) ** 2).sum()\n",
    "print('Tổng bình phương sai số của dự đoán:', sse)"
   ],
   "metadata": {
    "collapsed": false,
    "pycharm": {
     "name": "#%%\n"
    }
   }
  },
  {
   "cell_type": "code",
   "execution_count": null,
   "outputs": [],
   "source": [],
   "metadata": {
    "collapsed": false,
    "pycharm": {
     "name": "#%%\n"
    }
   }
  }
 ],
 "metadata": {
  "kernelspec": {
   "display_name": "Python 3",
   "language": "python",
   "name": "python3"
  },
  "language_info": {
   "codemirror_mode": {
    "name": "ipython",
    "version": 2
   },
   "file_extension": ".py",
   "mimetype": "text/x-python",
   "name": "python",
   "nbconvert_exporter": "python",
   "pygments_lexer": "ipython2",
   "version": "2.7.6"
  }
 },
 "nbformat": 4,
 "nbformat_minor": 0
}